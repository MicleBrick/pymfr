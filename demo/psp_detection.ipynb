{
 "cells": [
  {
   "cell_type": "code",
   "execution_count": 1,
   "metadata": {
    "pycharm": {
     "name": "#%%\n"
    }
   },
   "outputs": [],
   "source": [
    "import pathlib\n",
    "\n",
    "import cdflib\n",
    "import matplotlib.pyplot as plt\n",
    "import numpy as np\n",
    "import pandas as pd\n",
    "import scipy.constants\n",
    "import torch\n",
    "from cdasws import CdasWs\n",
    "\n",
    "from pymfr.detect import detect_flux_ropes"
   ]
  },
  {
   "cell_type": "code",
   "execution_count": 2,
   "metadata": {
    "collapsed": true,
    "pycharm": {
     "name": "#%%\n"
    }
   },
   "outputs": [],
   "source": [
    "time = ['2018-11-13T00:00:00Z', '2018-11-14T00:00:00Z']\n",
    "\n",
    "file_name = f\"./data/psp_{time[0]}_{time[1]}.npz\"\n",
    "if not pathlib.Path(file_name).exists():\n",
    "    cdas = CdasWs()\n",
    "\n",
    "    status, data = cdas.get_data('PSP_SWP_SPC_L3I', ['vp_moment_RTN_gd', 'np_moment_gd'], time[0], time[1])\n",
    "\n",
    "    datetime = cdflib.epochs.CDFepoch().to_datetime(data.Epoch.values, to_np=True)\n",
    "\n",
    "    velocity = data.vp_moment_RTN.values\n",
    "    velocity[np.any(velocity == data.vp_moment_RTN.FILLVAL, axis=1)] = np.nan\n",
    "    velocity = pd.DataFrame(velocity, index=pd.DatetimeIndex(datetime))\n",
    "    velocity = velocity.resample(\"60s\").mean().shift(0.5, freq=\"60s\")\n",
    "    times = velocity.index.values\n",
    "    velocity = velocity.values\n",
    "\n",
    "    density = data.np_moment.values\n",
    "    density[density == data.np_moment.FILLVAL] = np.nan\n",
    "    density = pd.Series(density, index=pd.DatetimeIndex(datetime))\n",
    "    density = density.resample(\"60s\").mean().shift(0.5, freq=\"60s\").values\n",
    "\n",
    "    status, data = cdas.get_data('PSP_FLD_L2_MAG_RTN', ['psp_fld_l2_mag_RTN'], time[0], time[1])\n",
    "\n",
    "    magnetic_field = data.psp_fld_l2_mag_RTN.values\n",
    "    magnetic_field[np.any(magnetic_field == data.psp_fld_l2_mag_RTN.FILLVAL, axis=1), :] = np.nan\n",
    "    datetime = cdflib.epochs.CDFepoch().to_datetime(data.epoch_mag_RTN.values, to_np=True)\n",
    "    magnetic_field = pd.DataFrame(magnetic_field, index=pd.DatetimeIndex(datetime))\n",
    "    magnetic_field = magnetic_field.resample(\"60s\").mean().shift(0.5, freq=\"60s\").values\n",
    "    np.savez_compressed(file_name, magnetic_field=magnetic_field, velocity=velocity, density=density, times=times)\n",
    "\n",
    "data = np.load(file_name)\n",
    "\n",
    "magnetic_field = torch.as_tensor(data[\"magnetic_field\"], dtype=torch.float32)\n",
    "velocity = torch.as_tensor(data[\"velocity\"], dtype=torch.float32)\n",
    "density = torch.as_tensor(data[\"density\"], dtype=torch.float32)\n",
    "times = data[\"times\"]"
   ]
  },
  {
   "cell_type": "code",
   "execution_count": 3,
   "metadata": {
    "pycharm": {
     "name": "#%%\n"
    }
   },
   "outputs": [
    {
     "name": "stderr",
     "output_type": "stream",
     "text": [
      "  0%|          | 0/160 [00:00<?, ?it/s]\n"
     ]
    },
    {
     "ename": "RuntimeError",
     "evalue": "The size of tensor a (73) must match the size of tensor b (169) at non-singleton dimension 1",
     "output_type": "error",
     "traceback": [
      "\u001B[0;31m---------------------------------------------------------------------------\u001B[0m",
      "\u001B[0;31mRuntimeError\u001B[0m                              Traceback (most recent call last)",
      "Input \u001B[0;32mIn [3]\u001B[0m, in \u001B[0;36m<cell line: 2>\u001B[0;34m()\u001B[0m\n\u001B[1;32m      1\u001B[0m durations \u001B[38;5;241m=\u001B[39m \u001B[38;5;28mrange\u001B[39m(\u001B[38;5;241m10\u001B[39m, \u001B[38;5;241m170\u001B[39m)\n\u001B[0;32m----> 2\u001B[0m results \u001B[38;5;241m=\u001B[39m \u001B[43mdetect_flux_ropes\u001B[49m\u001B[43m(\u001B[49m\u001B[43mmagnetic_field\u001B[49m\u001B[43m,\u001B[49m\u001B[43m \u001B[49m\u001B[43mvelocity\u001B[49m\u001B[43m,\u001B[49m\u001B[43m \u001B[49m\u001B[43mdensity\u001B[49m\u001B[43m,\u001B[49m\n\u001B[1;32m      3\u001B[0m \u001B[43m                            \u001B[49m\u001B[43mbatch_size_mb\u001B[49m\u001B[38;5;241;43m=\u001B[39;49m\u001B[38;5;241;43m4096\u001B[39;49m\u001B[43m,\u001B[49m\n\u001B[1;32m      4\u001B[0m \u001B[43m                            \u001B[49m\u001B[43mwindow_steps\u001B[49m\u001B[38;5;241;43m=\u001B[39;49m\u001B[43m[\u001B[49m\u001B[38;5;28;43mmax\u001B[39;49m\u001B[43m(\u001B[49m\u001B[43mduration\u001B[49m\u001B[43m \u001B[49m\u001B[38;5;241;43m/\u001B[39;49m\u001B[38;5;241;43m/\u001B[39;49m\u001B[43m \u001B[49m\u001B[38;5;241;43m16\u001B[39;49m\u001B[43m,\u001B[49m\u001B[43m \u001B[49m\u001B[38;5;241;43m1\u001B[39;49m\u001B[43m)\u001B[49m\u001B[43m \u001B[49m\u001B[38;5;28;43;01mfor\u001B[39;49;00m\u001B[43m \u001B[49m\u001B[43mduration\u001B[49m\u001B[43m \u001B[49m\u001B[38;5;129;43;01min\u001B[39;49;00m\u001B[43m \u001B[49m\u001B[43mdurations\u001B[49m\u001B[43m]\u001B[49m\u001B[43m,\u001B[49m\n\u001B[1;32m      5\u001B[0m \u001B[43m                            \u001B[49m\u001B[43mwindow_lengths\u001B[49m\u001B[38;5;241;43m=\u001B[39;49m\u001B[43mdurations\u001B[49m\u001B[43m,\u001B[49m\u001B[43m \u001B[49m\u001B[43mmin_strength\u001B[49m\u001B[38;5;241;43m=\u001B[39;49m\u001B[38;5;241;43m25\u001B[39;49m\u001B[43m,\u001B[49m\u001B[43m \u001B[49m\u001B[43mframe_type\u001B[49m\u001B[38;5;241;43m=\u001B[39;49m\u001B[38;5;124;43m\"\u001B[39;49m\u001B[38;5;124;43mvht\u001B[39;49m\u001B[38;5;124;43m\"\u001B[39;49m\u001B[43m,\u001B[49m\n\u001B[1;32m      6\u001B[0m \u001B[43m                            \u001B[49m\u001B[43mcuda\u001B[49m\u001B[38;5;241;43m=\u001B[39;49m\u001B[38;5;28;43;01mFalse\u001B[39;49;00m\u001B[43m)\u001B[49m\n",
      "File \u001B[0;32m~/research/pymfr/pymfr/detect.py:156\u001B[0m, in \u001B[0;36mdetect_flux_ropes\u001B[0;34m(magnetic_field, velocity, density, batch_size_mb, window_lengths, window_steps, min_strength, frame_type, altitude_range, azimuth_range, threshold_diff, threshold_fit, threshold_walen, threshold_folding, cuda)\u001B[0m\n\u001B[1;32m    153\u001B[0m batch_frames \u001B[38;5;241m=\u001B[39m batch_frames[mask]\n\u001B[1;32m    154\u001B[0m batch_starts \u001B[38;5;241m=\u001B[39m batch_starts[mask]\n\u001B[0;32m--> 156\u001B[0m error_diff \u001B[38;5;241m=\u001B[39m \u001B[43m_calculate_residue_diff\u001B[49m\u001B[43m(\u001B[49m\u001B[43minflection_points\u001B[49m\u001B[43m,\u001B[49m\n\u001B[1;32m    157\u001B[0m \u001B[43m                                     \u001B[49m\u001B[43mpotential\u001B[49m\u001B[43m,\u001B[49m\n\u001B[1;32m    158\u001B[0m \u001B[43m                                     \u001B[49m\u001B[43mtransverse_pressure\u001B[49m\u001B[43m)\u001B[49m\n\u001B[1;32m    160\u001B[0m mask \u001B[38;5;241m=\u001B[39m (error_diff \u001B[38;5;241m<\u001B[39m\u001B[38;5;241m=\u001B[39m threshold_diff)\n\u001B[1;32m    162\u001B[0m \u001B[38;5;28;01mfor\u001B[39;00m i \u001B[38;5;129;01min\u001B[39;00m torch\u001B[38;5;241m.\u001B[39mnonzero(mask)\u001B[38;5;241m.\u001B[39mflatten():\n",
      "File \u001B[0;32m~/research/pymfr/pymfr/residue.py:64\u001B[0m, in \u001B[0;36m_calculate_residue_diff\u001B[0;34m(inflection_points, potential, pressure)\u001B[0m\n\u001B[1;32m     62\u001B[0m \u001B[38;5;66;03m# normalize by number of data points (subtract one to exclude inflection point)\u001B[39;00m\n\u001B[1;32m     63\u001B[0m sample_counts \u001B[38;5;241m=\u001B[39m limit_mask\u001B[38;5;241m.\u001B[39mlong()\u001B[38;5;241m.\u001B[39msum(dim\u001B[38;5;241m=\u001B[39m\u001B[38;5;241m1\u001B[39m) \u001B[38;5;241m-\u001B[39m \u001B[38;5;241m1\u001B[39m\n\u001B[0;32m---> 64\u001B[0m interp_diff \u001B[38;5;241m=\u001B[39m \u001B[43mtorch\u001B[49m\u001B[38;5;241;43m.\u001B[39;49m\u001B[43mwhere\u001B[49m\u001B[43m(\u001B[49m\u001B[43msample_counts\u001B[49m\u001B[43m \u001B[49m\u001B[38;5;241;43m>\u001B[39;49m\u001B[43m \u001B[49m\u001B[38;5;241;43m1\u001B[39;49m\u001B[43m,\u001B[49m\u001B[43m \u001B[49m\u001B[43minterp_diff\u001B[49m\u001B[43m,\u001B[49m\u001B[43m \u001B[49m\u001B[43mtorch\u001B[49m\u001B[38;5;241;43m.\u001B[39;49m\u001B[43minf\u001B[49m\u001B[43m)\u001B[49m\n\u001B[1;32m     66\u001B[0m error_diff \u001B[38;5;241m=\u001B[39m torch\u001B[38;5;241m.\u001B[39msqrt(torch\u001B[38;5;241m.\u001B[39msum(interp_diff, dim\u001B[38;5;241m=\u001B[39m\u001B[38;5;241m1\u001B[39m) \u001B[38;5;241m/\u001B[39m (sample_counts \u001B[38;5;241m*\u001B[39m \u001B[38;5;241m2\u001B[39m)) \u001B[38;5;241m/\u001B[39m pressure_range\n\u001B[1;32m     67\u001B[0m \u001B[38;5;28;01mreturn\u001B[39;00m torch\u001B[38;5;241m.\u001B[39mwhere(pressure_range \u001B[38;5;241m>\u001B[39m \u001B[38;5;241m0\u001B[39m, error_diff, torch\u001B[38;5;241m.\u001B[39minf)\n",
      "\u001B[0;31mRuntimeError\u001B[0m: The size of tensor a (73) must match the size of tensor b (169) at non-singleton dimension 1"
     ]
    }
   ],
   "source": [
    "durations = range(10, 170)\n",
    "results = detect_flux_ropes(magnetic_field, velocity, density,\n",
    "                            batch_size_mb=4096,\n",
    "                            window_steps=[max(duration // 16, 1) for duration in durations],\n",
    "                            window_lengths=durations, min_strength=25, frame_type=\"vht\",\n",
    "                            cuda=False)"
   ]
  },
  {
   "cell_type": "code",
   "execution_count": null,
   "outputs": [],
   "source": [
    "def spherical(x, y, z):\n",
    "    altitude = np.rad2deg(np.arctan2(np.sqrt(x ** 2 + y ** 2), z))\n",
    "    azimuth = np.rad2deg(np.arctan2(y, x))\n",
    "    return altitude, azimuth\n",
    "\n",
    "\n",
    "for residue, start, end, duration, axis, frame, _ in results:\n",
    "    z_unit = np.array(axis)\n",
    "\n",
    "    event_velocity = velocity[start:start + duration].cpu().numpy()\n",
    "    event_field = magnetic_field[start:start + duration].cpu().numpy()\n",
    "\n",
    "    x_unit = -(frame - np.dot(frame, z_unit) * z_unit)\n",
    "    x_unit = x_unit / np.linalg.norm(x_unit)\n",
    "    y_unit = np.cross(z_unit, x_unit)\n",
    "    rotation_matrix = np.column_stack([x_unit, y_unit, z_unit])\n",
    "    rotation_matrix = rotation_matrix.T  # transpose gives inverse of rotation matrix\n",
    "\n",
    "    event_density = density[start:start + duration].cpu().numpy()\n",
    "\n",
    "    alfven_velocity = event_field / np.sqrt(scipy.constants.mu_0\n",
    "                                            * scipy.constants.m_p\n",
    "                                            * np.expand_dims(event_density, axis=1)) * 1e-15\n",
    "    remaining_flow = event_velocity - frame\n",
    "\n",
    "    d_flow = remaining_flow - remaining_flow.mean()\n",
    "    d_alfven = alfven_velocity - alfven_velocity.mean()\n",
    "    walen_slope = (d_flow * d_alfven).sum() / (d_alfven ** 2).sum()\n",
    "\n",
    "    # if walen_slope > 0.3:\n",
    "    #     continue\n",
    "\n",
    "    print(times[start], \" to \", times[end])\n",
    "    print(\"duration:\", duration)\n",
    "    print(\"error:\", round(residue, 3))\n",
    "    print(\"walen slope:\", round(walen_slope, 3))\n",
    "    print(\"<B>:\", round(np.linalg.norm(event_field, axis=1).mean(), 2))\n",
    "    altitude, azimuth = spherical(*axis)\n",
    "    print(\"Altitude/azimuth:\", round(altitude), \"/\", round(azimuth % 360))\n",
    "\n",
    "    colors = [\"red\", \"green\", \"blue\"]\n",
    "\n",
    "    for i_color, color in enumerate(colors):\n",
    "        plt.scatter(alfven_velocity[:, i_color], remaining_flow[:, i_color], color=color)\n",
    "    plt.show()\n",
    "\n",
    "    rotated = rotation_matrix @ event_field.T\n",
    "    for i_color, color in enumerate(colors):\n",
    "        plt.plot(rotated[i_color], color=color)\n",
    "    plt.show()\n",
    "\n",
    "    A = scipy.integrate.cumulative_trapezoid(rotated[1], initial=0)\n",
    "    plt.plot(A)\n",
    "    plt.show()\n",
    "\n",
    "    P = rotated[2] ** 2\n",
    "    plt.scatter(A, P)\n",
    "    plt.plot(A, P)\n",
    "    plt.show()"
   ],
   "metadata": {
    "collapsed": false,
    "pycharm": {
     "name": "#%%\n"
    }
   }
  },
  {
   "cell_type": "code",
   "execution_count": null,
   "outputs": [],
   "source": [],
   "metadata": {
    "collapsed": false,
    "pycharm": {
     "name": "#%%\n"
    }
   }
  },
  {
   "cell_type": "code",
   "execution_count": null,
   "outputs": [],
   "source": [],
   "metadata": {
    "collapsed": false,
    "pycharm": {
     "name": "#%%\n"
    }
   }
  }
 ],
 "metadata": {
  "kernelspec": {
   "display_name": "Python 3 (ipykernel)",
   "language": "python",
   "name": "python3"
  },
  "language_info": {
   "codemirror_mode": {
    "name": "ipython",
    "version": 3
   },
   "file_extension": ".py",
   "mimetype": "text/x-python",
   "name": "python",
   "nbconvert_exporter": "python",
   "pygments_lexer": "ipython3",
   "version": "3.10.4"
  }
 },
 "nbformat": 4,
 "nbformat_minor": 1
}