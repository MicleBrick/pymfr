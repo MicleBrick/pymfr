{
 "cells": [
  {
   "cell_type": "code",
   "execution_count": 1,
   "metadata": {
    "pycharm": {
     "name": "#%%\n"
    }
   },
   "outputs": [],
   "source": [
    "import pathlib\n",
    "\n",
    "import cdflib\n",
    "import matplotlib.pyplot as plt\n",
    "import numpy as np\n",
    "import pandas as pd\n",
    "import scipy.constants\n",
    "import torch\n",
    "from cdasws import CdasWs\n",
    "\n",
    "from pymfr.detect import detect_flux_ropes"
   ]
  },
  {
   "cell_type": "code",
   "execution_count": 2,
   "metadata": {
    "collapsed": true,
    "pycharm": {
     "name": "#%%\n"
    }
   },
   "outputs": [],
   "source": [
    "time = ['2016-01-01T00:00:00Z', '2016-01-02T00:00:00Z']\n",
    "\n",
    "file_name = f\"./data/wind_{time[0]}_{time[1]}_1min_nonlin.npz\"\n",
    "if not pathlib.Path(file_name).exists():\n",
    "    cdas = CdasWs()\n",
    "\n",
    "    status, data = cdas.get_data('WI_H1_SWE', ['Proton_VX_nonlin',\n",
    "                                               'Proton_VY_nonlin',\n",
    "                                               'Proton_VZ_nonlin',\n",
    "                                               'Proton_Np_nonlin',\n",
    "                                               'Proton_W_nonlin'],\n",
    "                                 time[0], time[1])\n",
    "\n",
    "    datetime = cdflib.epochs.CDFepoch().to_datetime(data.Epoch.values, to_np=True)\n",
    "\n",
    "    velocity = np.column_stack([data.Proton_VX_nonlin.values,\n",
    "                                data.Proton_VY_nonlin.values,\n",
    "                                data.Proton_VZ_nonlin.values])\n",
    "    velocity[np.any(velocity == data.Proton_VX_nonlin.FILLVAL, axis=1)] = np.nan\n",
    "    velocity[np.any(velocity == data.Proton_VY_nonlin.FILLVAL, axis=1)] = np.nan\n",
    "    velocity[np.any(velocity == data.Proton_VZ_nonlin.FILLVAL, axis=1)] = np.nan\n",
    "    velocity = pd.DataFrame(velocity, index=pd.DatetimeIndex(datetime)).interpolate()\n",
    "    velocity = velocity.resample(\"60s\").mean().shift(0.5, freq=\"60s\").interpolate()\n",
    "    times = velocity.index.values\n",
    "\n",
    "    density = data.Proton_Np_nonlin.values\n",
    "    density[density == data.Proton_Np_nonlin.FILLVAL] = np.nan\n",
    "    density = pd.Series(density, index=pd.DatetimeIndex(datetime)).interpolate()\n",
    "    density = density.resample(\"60s\").mean().shift(0.5, freq=\"60s\").interpolate()\n",
    "\n",
    "    temperature = data.Proton_W_nonlin.values\n",
    "    temperature[temperature == data.Proton_W_nonlin.FILLVAL] = np.nan\n",
    "    temperature = (temperature * 1e3) ** 2 * scipy.constants.m_p / (2 * scipy.constants.Boltzmann) / 1e6\n",
    "    temperature = pd.Series(temperature, index=pd.DatetimeIndex(datetime)).interpolate()\n",
    "    temperature = temperature.resample(\"60s\").mean().shift(0.5, freq=\"60s\").interpolate()\n",
    "\n",
    "    status, data = cdas.get_data('WI_H0_MFI', ['BGSE'], time[0], time[1])\n",
    "\n",
    "    magnetic_field = data.BGSE.values\n",
    "    magnetic_field[np.any(magnetic_field == data.BGSE.FILLVAL, axis=1), :] = np.nan\n",
    "    datetime = cdflib.epochs.CDFepoch().to_datetime(data.Epoch.values, to_np=True)\n",
    "    magnetic_field = pd.DataFrame(magnetic_field, index=pd.DatetimeIndex(datetime)).interpolate()\n",
    "\n",
    "    magnetic_field = magnetic_field.truncate(times[0], times[-1])\n",
    "    density = density.truncate(magnetic_field.index[0], magnetic_field.index[-1]).values\n",
    "    temperature = temperature.truncate(magnetic_field.index[0], magnetic_field.index[-1]).values\n",
    "    velocity = velocity.truncate(magnetic_field.index[0], magnetic_field.index[-1]).values\n",
    "    times = magnetic_field.index.values\n",
    "\n",
    "    assert len(magnetic_field) == len(velocity) == len(density)\n",
    "\n",
    "    np.savez_compressed(file_name, magnetic_field=magnetic_field, velocity=velocity, density=density, temperature=temperature, times=times)\n",
    "\n",
    "data = np.load(file_name)\n",
    "\n",
    "magnetic_field = torch.as_tensor(data[\"magnetic_field\"], dtype=torch.float32)\n",
    "velocity = torch.as_tensor(data[\"velocity\"], dtype=torch.float32)\n",
    "density = torch.as_tensor(data[\"density\"], dtype=torch.float32)\n",
    "temperature = torch.as_tensor(data[\"temperature\"], dtype=torch.float32)\n",
    "times = data[\"times\"]"
   ]
  },
  {
   "cell_type": "code",
   "execution_count": null,
   "outputs": [
    {
     "name": "stderr",
     "output_type": "stream",
     "text": [
      " 25%|██▌       | 48/190 [00:16<00:32,  4.41it/s]"
     ]
    }
   ],
   "source": [
    "durations = range(10, 200)\n",
    "\n",
    "gas_pressure = scipy.constants.Boltzmann * (density * 1e6) * (temperature * 1e6) * 1e9\n",
    "\n",
    "results = detect_flux_ropes(magnetic_field, velocity, density, gas_pressure,\n",
    "                            batch_size_mb=4096,\n",
    "                            window_steps=[max(duration // 16, 1) for duration in durations],\n",
    "                            window_lengths=durations, min_strength=5, frame_type=\"vht_2d\")"
   ],
   "metadata": {
    "collapsed": false,
    "pycharm": {
     "name": "#%%\n",
     "is_executing": true
    }
   }
  },
  {
   "cell_type": "code",
   "execution_count": null,
   "outputs": [],
   "source": [
    "def spherical(x, y, z):\n",
    "    altitude = np.rad2deg(np.arctan2(np.sqrt(x ** 2 + y ** 2), z))\n",
    "    azimuth = np.rad2deg(np.arctan2(y, x))\n",
    "    return altitude, azimuth\n",
    "\n",
    "\n",
    "for residue, start, end, duration, axis, frame, error_fit in results:\n",
    "    z_unit = np.array(axis)\n",
    "    frame = np.array(frame)\n",
    "\n",
    "    event_velocity = velocity[start:start + duration].cpu().numpy()\n",
    "    event_field = magnetic_field[start:start + duration].cpu().numpy()\n",
    "\n",
    "    x_unit = -(frame - np.dot(frame, z_unit) * z_unit)\n",
    "    x_unit = x_unit / np.linalg.norm(x_unit)\n",
    "    y_unit = np.cross(z_unit, x_unit)\n",
    "    rotation_matrix = np.column_stack([x_unit, y_unit, z_unit])\n",
    "    rotation_matrix = rotation_matrix.T  # transpose gives inverse of rotation matrix\n",
    "\n",
    "    event_density = density[start:start + duration].cpu().numpy()\n",
    "\n",
    "    alfven_velocity = event_field / np.sqrt(scipy.constants.mu_0\n",
    "                                            * scipy.constants.m_p\n",
    "                                            * np.expand_dims(event_density, axis=1)) * 1e-15\n",
    "    Pgas = gas_pressure[start:start + duration].cpu().numpy()\n",
    "    remaining_flow = event_velocity - frame\n",
    "\n",
    "    d_flow = remaining_flow - remaining_flow.mean()\n",
    "    d_alfven = alfven_velocity - alfven_velocity.mean()\n",
    "    walen_slope = (d_flow * d_alfven).sum() / (d_alfven ** 2).sum()\n",
    "\n",
    "    # if walen_slope > 0.3:\n",
    "    #     continue\n",
    "\n",
    "    print(times[start], \" to \", times[end])\n",
    "    print(\"duration:\", duration)\n",
    "    print(\"error:\", round(residue, 3), round(error_fit, 3))\n",
    "    print(\"walen slope:\", round(walen_slope, 3))\n",
    "    print(\"<B>:\", round(np.linalg.norm(event_field, axis=1).mean(), 2))\n",
    "    altitude, azimuth = spherical(*axis)\n",
    "    print(\"Altitude/azimuth:\", round(altitude), \"/\", round(azimuth % 360))\n",
    "\n",
    "    colors = [\"red\", \"green\", \"blue\"]\n",
    "\n",
    "    for i_color, color in enumerate(colors):\n",
    "        plt.scatter(alfven_velocity[:, i_color], remaining_flow[:, i_color], color=color)\n",
    "    plt.show()\n",
    "\n",
    "    rotated = rotation_matrix @ event_field.T\n",
    "    for i_color, color in enumerate(colors):\n",
    "        plt.plot(rotated[i_color], color=color)\n",
    "    plt.show()\n",
    "\n",
    "    dx = np.linalg.norm(np.dot(frame, x_unit))\n",
    "    A = scipy.integrate.cumulative_trapezoid(-rotated[1], initial=0)\n",
    "    plt.plot(A)\n",
    "    plt.show()\n",
    "\n",
    "    P = Pgas + (rotated[2] * 1e-9) ** 2 / (2 * 1.25663706212e-6) * 1e9\n",
    "    plt.scatter(A, P)\n",
    "    plt.plot(A, P)\n",
    "    plt.show()"
   ],
   "metadata": {
    "collapsed": false,
    "pycharm": {
     "name": "#%%\n",
     "is_executing": true
    }
   }
  },
  {
   "cell_type": "code",
   "execution_count": null,
   "metadata": {
    "pycharm": {
     "name": "#%%\n",
     "is_executing": true
    }
   },
   "outputs": [],
   "source": []
  }
 ],
 "metadata": {
  "kernelspec": {
   "display_name": "Python 3 (ipykernel)",
   "language": "python",
   "name": "python3"
  },
  "language_info": {
   "codemirror_mode": {
    "name": "ipython",
    "version": 3
   },
   "file_extension": ".py",
   "mimetype": "text/x-python",
   "name": "python",
   "nbconvert_exporter": "python",
   "pygments_lexer": "ipython3",
   "version": "3.10.4"
  }
 },
 "nbformat": 4,
 "nbformat_minor": 1
}