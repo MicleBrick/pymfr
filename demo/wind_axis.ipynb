{
 "cells": [
  {
   "cell_type": "code",
   "execution_count": 1,
   "metadata": {
    "pycharm": {
     "name": "#%%\n"
    }
   },
   "outputs": [],
   "source": [
    "import pathlib\n",
    "\n",
    "import cdflib\n",
    "import matplotlib.pyplot as plt\n",
    "import numpy as np\n",
    "import pandas as pd\n",
    "import pylab as pl\n",
    "import scipy.constants\n",
    "import torch\n",
    "from cdasws import CdasWs"
   ]
  },
  {
   "cell_type": "code",
   "execution_count": 2,
   "outputs": [],
   "source": [
    "time = [\"2016-01-31T14:55:00Z\", \"2016-01-31T20:50:00Z\"]\n",
    "\n",
    "file_name = f\"./data/wind_{time[0]}_{time[1]}_1min_nonlin.npz\"\n",
    "if not pathlib.Path(file_name).exists():\n",
    "    cdas = CdasWs()\n",
    "\n",
    "    status, data = cdas.get_data('WI_H1_SWE', ['Proton_VX_nonlin',\n",
    "                                               'Proton_VY_nonlin',\n",
    "                                               'Proton_VZ_nonlin',\n",
    "                                               'Proton_Np_nonlin',\n",
    "                                               'Proton_W_nonlin'],\n",
    "                                 time[0], time[1])\n",
    "\n",
    "    datetime = cdflib.epochs.CDFepoch().to_datetime(data.Epoch.values, to_np=True)\n",
    "\n",
    "    velocity = np.column_stack([data.Proton_VX_nonlin.values,\n",
    "                                data.Proton_VY_nonlin.values,\n",
    "                                data.Proton_VZ_nonlin.values])\n",
    "    velocity[np.any(velocity == data.Proton_VX_nonlin.FILLVAL, axis=1)] = np.nan\n",
    "    velocity[np.any(velocity == data.Proton_VY_nonlin.FILLVAL, axis=1)] = np.nan\n",
    "    velocity[np.any(velocity == data.Proton_VZ_nonlin.FILLVAL, axis=1)] = np.nan\n",
    "    velocity = pd.DataFrame(velocity, index=pd.DatetimeIndex(datetime)).interpolate()\n",
    "    velocity = velocity.resample(\"60s\").mean().shift(0.5, freq=\"60s\").interpolate()\n",
    "    times = velocity.index.values\n",
    "\n",
    "    density = data.Proton_Np_nonlin.values\n",
    "    density[density == data.Proton_Np_nonlin.FILLVAL] = np.nan\n",
    "    density = pd.Series(density, index=pd.DatetimeIndex(datetime)).interpolate()\n",
    "    density = density.resample(\"60s\").mean().shift(0.5, freq=\"60s\").interpolate()\n",
    "\n",
    "    temperature = data.Proton_W_nonlin.values\n",
    "    temperature[temperature == data.Proton_W_nonlin.FILLVAL] = np.nan\n",
    "    temperature = (temperature * 1e3) ** 2 * scipy.constants.m_p / (2 * scipy.constants.Boltzmann) / 1e6\n",
    "    temperature = pd.Series(temperature, index=pd.DatetimeIndex(datetime)).interpolate()\n",
    "    temperature = temperature.resample(\"60s\").mean().shift(0.5, freq=\"60s\").interpolate()\n",
    "\n",
    "    status, data = cdas.get_data('WI_H0_MFI', ['BGSE'], time[0], time[1])\n",
    "\n",
    "    magnetic_field = data.BGSE.values\n",
    "    magnetic_field[np.any(magnetic_field == data.BGSE.FILLVAL, axis=1), :] = np.nan\n",
    "    datetime = cdflib.epochs.CDFepoch().to_datetime(data.Epoch.values, to_np=True)\n",
    "    magnetic_field = pd.DataFrame(magnetic_field, index=pd.DatetimeIndex(datetime)).interpolate()\n",
    "\n",
    "    magnetic_field = magnetic_field.truncate(times[0], times[-1])\n",
    "    density = density.truncate(magnetic_field.index[0], magnetic_field.index[-1]).values\n",
    "    temperature = temperature.truncate(magnetic_field.index[0], magnetic_field.index[-1]).values\n",
    "    velocity = velocity.truncate(magnetic_field.index[0], magnetic_field.index[-1]).values\n",
    "    times = magnetic_field.index.values\n",
    "\n",
    "    assert len(magnetic_field) == len(velocity) == len(density)\n",
    "\n",
    "    np.savez_compressed(file_name, magnetic_field=magnetic_field, velocity=velocity, density=density, temperature=temperature, times=times)\n",
    "\n",
    "data = np.load(file_name)\n",
    "\n",
    "magnetic_field = torch.as_tensor(data[\"magnetic_field\"], dtype=torch.float32)\n",
    "velocity = torch.as_tensor(data[\"velocity\"], dtype=torch.float32)\n",
    "density = torch.as_tensor(data[\"density\"], dtype=torch.float32)\n",
    "temperature = torch.as_tensor(data[\"temperature\"], dtype=torch.float32)\n",
    "times = data[\"times\"]"
   ],
   "metadata": {
    "collapsed": false,
    "pycharm": {
     "name": "#%%\n"
    }
   }
  },
  {
   "cell_type": "code",
   "execution_count": 3,
   "outputs": [
    {
     "ename": "ImportError",
     "evalue": "cannot import name 'get_residue_map' from 'pymfr.axis' (/home/hafarooki/research/pymfr/pymfr/axis.py)",
     "output_type": "error",
     "traceback": [
      "\u001B[0;31m---------------------------------------------------------------------------\u001B[0m",
      "\u001B[0;31mImportError\u001B[0m                               Traceback (most recent call last)",
      "Input \u001B[0;32mIn [3]\u001B[0m, in \u001B[0;36m<cell line: 21>\u001B[0;34m()\u001B[0m\n\u001B[1;32m     18\u001B[0m trial_axes\u001B[38;5;241m.\u001B[39mappend(torch\u001B[38;5;241m.\u001B[39mtensor([\u001B[38;5;241m0\u001B[39m, \u001B[38;5;241m0\u001B[39m, \u001B[38;5;241m1\u001B[39m], dtype\u001B[38;5;241m=\u001B[39mtorch\u001B[38;5;241m.\u001B[39mfloat32))\n\u001B[1;32m     19\u001B[0m trial_axes \u001B[38;5;241m=\u001B[39m torch\u001B[38;5;241m.\u001B[39mrow_stack(trial_axes)\n\u001B[0;32m---> 21\u001B[0m \u001B[38;5;28;01mfrom\u001B[39;00m \u001B[38;5;21;01mpymfr\u001B[39;00m\u001B[38;5;21;01m.\u001B[39;00m\u001B[38;5;21;01maxis\u001B[39;00m \u001B[38;5;28;01mimport\u001B[39;00m get_residue_map\n\u001B[1;32m     22\u001B[0m residue_map \u001B[38;5;241m=\u001B[39m get_residue_map(magnetic_field, gas_pressure, frame, trial_axes)[:\u001B[38;5;241m-\u001B[39m\u001B[38;5;241m1\u001B[39m]\u001B[38;5;241m.\u001B[39mreshape((\u001B[38;5;241m180\u001B[39m, \u001B[38;5;241m720\u001B[39m))\u001B[38;5;241m.\u001B[39mnumpy()\n\u001B[1;32m     23\u001B[0m residue_map[residue_map \u001B[38;5;241m==\u001B[39m np\u001B[38;5;241m.\u001B[39minf] \u001B[38;5;241m=\u001B[39m \u001B[38;5;241m1\u001B[39m\n",
      "\u001B[0;31mImportError\u001B[0m: cannot import name 'get_residue_map' from 'pymfr.axis' (/home/hafarooki/research/pymfr/pymfr/axis.py)"
     ]
    }
   ],
   "source": [
    "from pymfr.frame import estimate_ht_frame\n",
    "from pymfr.axis import minimize_rdiff\n",
    "\n",
    "electric_field = -torch.cross(velocity, magnetic_field)\n",
    "frame = estimate_ht_frame(magnetic_field, electric_field)\n",
    "# frame = velocity.mean(dim=0)\n",
    "\n",
    "gas_pressure = scipy.constants.Boltzmann * (density * 1e6) * (temperature * 1e6) * 1e9\n",
    "# gas_pressure = torch.zeros_like(gas_pressure)\n",
    "\n",
    "trial_altitudes = np.linspace(0, 90, 180)\n",
    "trial_azimuths = np.linspace(0, 360, 720)\n",
    "trial_axes = [torch.tensor([np.sin(np.deg2rad(altitude)) * np.cos(np.deg2rad(azimuth)),\n",
    "                            np.sin(np.deg2rad(altitude)) * np.sin(np.deg2rad(azimuth)),\n",
    "                            np.cos(np.deg2rad(altitude))], dtype=torch.float32)\n",
    "              for altitude in trial_altitudes\n",
    "              for azimuth in trial_azimuths]\n",
    "trial_axes.append(torch.tensor([0, 0, 1], dtype=torch.float32))\n",
    "trial_axes = torch.row_stack(trial_axes)\n",
    "\n",
    "from pymfr.axis import calculate_residue_map\n",
    "residue_map = calculate_residue_map(magnetic_field, gas_pressure, frame, trial_axes)[:-1].reshape((180, 720)).numpy()\n",
    "residue_map[residue_map == np.inf] = 1\n",
    "\n",
    "best_axis, best_rdiff = minimize_rdiff(magnetic_field.cuda(),\n",
    "                                       gas_pressure.cuda(),\n",
    "                                       frame.cuda(),\n",
    "                                       trial_axes.cuda())\n",
    "best_axis = best_axis.cpu()\n",
    "best_rdiff = best_rdiff.cpu()\n",
    "best_axis, best_rdiff\n"
   ],
   "metadata": {
    "collapsed": false,
    "pycharm": {
     "name": "#%%\n"
    }
   }
  },
  {
   "cell_type": "code",
   "execution_count": null,
   "outputs": [],
   "source": [
    "trial_axes.shape"
   ],
   "metadata": {
    "collapsed": false,
    "pycharm": {
     "name": "#%%\n"
    }
   }
  },
  {
   "cell_type": "code",
   "execution_count": null,
   "outputs": [],
   "source": [],
   "metadata": {
    "collapsed": false,
    "pycharm": {
     "name": "#%%\n"
    }
   }
  },
  {
   "cell_type": "code",
   "execution_count": null,
   "outputs": [],
   "source": [
    "def spherical(x, y, z):\n",
    "    altitude = np.rad2deg(np.arctan2(np.sqrt(x ** 2 + y ** 2), z))\n",
    "    azimuth = np.rad2deg(np.arctan2(y, x)) % 360\n",
    "    return altitude, azimuth\n",
    "\n",
    "altitude, azimuth = spherical(*best_axis.numpy())\n",
    "\n",
    "plt.pcolormesh(trial_azimuths, trial_altitudes, residue_map, cmap=\"gist_heat_r\")\n",
    "plt.xlabel(\"Azimuth (Degrees)\")\n",
    "plt.ylabel(\"Altitude (Degrees)\")\n",
    "plt.colorbar()\n",
    "plt.scatter([220], [30], color=\"green\", marker=\"o\", label=\"fluxrope.info\", s=100, alpha=0.5)\n",
    "plt.scatter([azimuth], [altitude], color=\"red\", marker=\"*\", label=\"Minimum\", s=100, alpha=0.5)\n",
    "plt.scatter(*spherical(*magnetic_field.numpy().mean(axis=0)), color=\"blue\", marker=\"*\", label=\"<B>\", s=100, alpha=0.5)\n",
    "plt.legend()\n",
    "plt.show()\n",
    "\n",
    "z_unit = np.array(best_axis)\n",
    "frame = np.array(frame)\n",
    "\n",
    "x_unit = -(frame - np.dot(frame, z_unit) * z_unit)\n",
    "x_unit = x_unit / np.linalg.norm(x_unit)\n",
    "y_unit = np.cross(z_unit, x_unit)\n",
    "rotation_matrix = np.column_stack([x_unit, y_unit, z_unit])\n",
    "rotation_matrix = rotation_matrix.T  # transpose gives inverse of rotation matrix\n",
    "\n",
    "event_density = density.cpu().numpy()\n",
    "\n",
    "alfven_velocity = magnetic_field / np.sqrt(scipy.constants.mu_0\n",
    "                                        * scipy.constants.m_p\n",
    "                                        * np.expand_dims(event_density, axis=1)) * 1e-15\n",
    "remaining_flow = velocity - frame\n",
    "\n",
    "d_flow = remaining_flow - remaining_flow.mean()\n",
    "d_alfven = alfven_velocity - alfven_velocity.mean()\n",
    "walen_slope = (d_flow * d_alfven).sum() / (d_alfven ** 2).sum()\n",
    "\n",
    "# if walen_slope > 0.3:\n",
    "#     continue\n",
    "\n",
    "print(\"Altitude/azimuth:\", altitude, \"/\", azimuth % 360)\n",
    "\n",
    "colors = [\"red\", \"green\", \"blue\"]\n",
    "\n",
    "for i_color, color in enumerate(colors):\n",
    "    plt.scatter(times, alfven_velocity[:, i_color], remaining_flow[:, i_color], color=color)\n",
    "plt.show()\n",
    "\n",
    "rotated = rotation_matrix @ magnetic_field.numpy().T\n",
    "for i_color, color in enumerate(colors):\n",
    "    plt.plot(times, rotated[i_color], color=color)\n",
    "plt.show()\n",
    "\n",
    "A = scipy.integrate.cumulative_trapezoid(rotated[1], initial=0)\n",
    "plt.plot(A)\n",
    "plt.show()\n",
    "\n",
    "magnetic_transverse_pressure = (rotated[2] * 1e-9) ** 2 / (2 * scipy.constants.mu_0) * 1e9\n",
    "P = gas_pressure + magnetic_transverse_pressure\n",
    "plt.scatter(A, P)\n",
    "plt.plot(A, P)\n",
    "plt.show()"
   ],
   "metadata": {
    "collapsed": false,
    "pycharm": {
     "name": "#%%\n"
    }
   }
  },
  {
   "cell_type": "code",
   "execution_count": null,
   "outputs": [],
   "source": [
    "def spherical(x, y, z):\n",
    "    altitude = np.rad2deg(np.arctan2(np.sqrt(x ** 2 + y ** 2), z))\n",
    "    azimuth = np.rad2deg(np.arctan2(y, x)) % 360\n",
    "    return altitude, azimuth\n",
    "\n",
    "altitude, azimuth = spherical(*best_axis.numpy())\n",
    "\n",
    "plt.pcolormesh(trial_azimuths, trial_altitudes, residue_map, cmap=\"gist_heat_r\")\n",
    "plt.xlabel(\"Azimuth (Degrees)\")\n",
    "plt.ylabel(\"Altitude (Degrees)\")\n",
    "plt.colorbar()\n",
    "plt.scatter([220], [30], color=\"black\", marker=\"*\", label=\"fluxrope.info\", s=100, alpha=0.5)\n",
    "plt.scatter([azimuth], [altitude], color=\"red\", marker=\"*\", label=\"Minimum\", s=100, alpha=0.5)\n",
    "plt.scatter(*spherical(*magnetic_field.numpy().mean(axis=0)), color=\"blue\", marker=\"*\", label=\"<B>\", s=100, alpha=0.5)\n",
    "plt.legend()\n",
    "plt.show()\n",
    "\n",
    "z_unit = np.array(best_axis)\n",
    "frame = np.array(frame)\n",
    "\n",
    "x_unit = -(frame - np.dot(frame, z_unit) * z_unit)\n",
    "x_unit = x_unit / np.linalg.norm(x_unit)\n",
    "y_unit = np.cross(z_unit, x_unit)\n",
    "rotation_matrix = np.column_stack([x_unit, y_unit, z_unit])\n",
    "rotation_matrix = rotation_matrix.T  # transpose gives inverse of rotation matrix\n",
    "\n",
    "event_density = density.cpu().numpy()\n",
    "\n",
    "alfven_velocity = magnetic_field / np.sqrt(scipy.constants.mu_0\n",
    "                                        * scipy.constants.m_p\n",
    "                                        * np.expand_dims(event_density, axis=1)) * 1e-15\n",
    "remaining_flow = velocity - frame\n",
    "\n",
    "d_flow = remaining_flow - remaining_flow.mean()\n",
    "d_alfven = alfven_velocity - alfven_velocity.mean()\n",
    "walen_slope = (d_flow * d_alfven).sum() / (d_alfven ** 2).sum()\n",
    "\n",
    "# if walen_slope > 0.3:\n",
    "#     continue\n",
    "\n",
    "print(\"Altitude/azimuth:\", altitude, \"/\", azimuth % 360)\n",
    "\n",
    "colors = [\"red\", \"green\", \"blue\"]\n",
    "\n",
    "for i_color, color in enumerate(colors):\n",
    "    plt.scatter(times, alfven_velocity[:, i_color], remaining_flow[:, i_color], color=color)\n",
    "plt.show()\n",
    "\n",
    "rotated = rotation_matrix @ magnetic_field.numpy().T\n",
    "for i_color, color in enumerate(colors):\n",
    "    plt.plot(times, rotated[i_color], color=color)\n",
    "plt.show()\n",
    "\n",
    "A = scipy.integrate.cumulative_trapezoid(rotated[1], initial=0)\n",
    "plt.plot(A)\n",
    "plt.show()\n",
    "\n",
    "magnetic_transverse_pressure = (rotated[2] * 1e-9) ** 2 / (2 * scipy.constants.mu_0) * 1e9\n",
    "P = gas_pressure + magnetic_transverse_pressure\n",
    "plt.scatter(A, P)\n",
    "plt.plot(A, P)\n",
    "plt.show()"
   ],
   "metadata": {
    "collapsed": false,
    "pycharm": {
     "name": "#%%\n"
    }
   }
  },
  {
   "cell_type": "code",
   "execution_count": null,
   "outputs": [],
   "source": [],
   "metadata": {
    "collapsed": false,
    "pycharm": {
     "name": "#%%\n"
    }
   }
  },
  {
   "cell_type": "code",
   "execution_count": null,
   "outputs": [],
   "source": [],
   "metadata": {
    "collapsed": false,
    "pycharm": {
     "name": "#%%\n"
    }
   }
  },
  {
   "cell_type": "code",
   "execution_count": null,
   "outputs": [],
   "source": [],
   "metadata": {
    "collapsed": false,
    "pycharm": {
     "name": "#%%\n"
    }
   }
  }
 ],
 "metadata": {
  "kernelspec": {
   "display_name": "Python 3 (ipykernel)",
   "language": "python",
   "name": "python3"
  },
  "language_info": {
   "codemirror_mode": {
    "name": "ipython",
    "version": 3
   },
   "file_extension": ".py",
   "mimetype": "text/x-python",
   "name": "python",
   "nbconvert_exporter": "python",
   "pygments_lexer": "ipython3",
   "version": "3.10.4"
  }
 },
 "nbformat": 4,
 "nbformat_minor": 1
}